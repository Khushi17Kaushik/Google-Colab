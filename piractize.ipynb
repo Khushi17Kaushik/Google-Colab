{
  "nbformat": 4,
  "nbformat_minor": 0,
  "metadata": {
    "colab": {
      "name": "piractize.ipynb",
      "provenance": [],
      "collapsed_sections": [],
      "authorship_tag": "ABX9TyPhanX89qAoDCaHWxsMQynr",
      "include_colab_link": true
    },
    "kernelspec": {
      "name": "python3",
      "display_name": "Python 3"
    }
  },
  "cells": [
    {
      "cell_type": "markdown",
      "metadata": {
        "id": "view-in-github",
        "colab_type": "text"
      },
      "source": [
        "<a href=\"https://colab.research.google.com/github/Khushi17Kaushik/Google-Colab/blob/main/piractize.ipynb\" target=\"_parent\"><img src=\"https://colab.research.google.com/assets/colab-badge.svg\" alt=\"Open In Colab\"/></a>"
      ]
    },
    {
      "cell_type": "code",
      "metadata": {
        "id": "d6yCHyHpPMbA",
        "outputId": "ea3b77f0-3a06-4f80-fcc5-b7c979a9c8f4",
        "colab": {
          "base_uri": "https://localhost:8080/"
        }
      },
      "source": [
        "age = int(input(\"enter your age:\\t\"))\n",
        "salary = int(input(\"enter your salary:\\t\"))\n",
        "if age<24 and salary>20000:\n",
        "  print(\"very good\")\n",
        "elif age>24 and salary<20000:\n",
        "  print(\"work hard\")\n",
        "elif age>24 and salary>20000:\n",
        "  print(\"you are doing good\")\n",
        "else:\n",
        "  print(\"wrong information\")"
      ],
      "execution_count": 2,
      "outputs": [
        {
          "output_type": "stream",
          "text": [
            "enter your age:\t55\n",
            "enter your salary:\t456\n",
            "work hard\n"
          ],
          "name": "stdout"
        }
      ]
    },
    {
      "cell_type": "code",
      "metadata": {
        "id": "dUodIKKbRekG"
      },
      "source": [
        "student = ['khushi','aakriti','sonali','vansh','aryan']"
      ],
      "execution_count": 5,
      "outputs": []
    },
    {
      "cell_type": "code",
      "metadata": {
        "id": "RuBV7u11Xw5q",
        "outputId": "7b503609-1ed8-43b8-aa2d-6d761e821c9e",
        "colab": {
          "base_uri": "https://localhost:8080/"
        }
      },
      "source": [
        "len(student)"
      ],
      "execution_count": 6,
      "outputs": [
        {
          "output_type": "execute_result",
          "data": {
            "text/plain": [
              "5"
            ]
          },
          "metadata": {
            "tags": []
          },
          "execution_count": 6
        }
      ]
    },
    {
      "cell_type": "code",
      "metadata": {
        "id": "vTtETnEzX3sX"
      },
      "source": [
        "cheems = 'hemlo everybody'"
      ],
      "execution_count": 7,
      "outputs": []
    },
    {
      "cell_type": "code",
      "metadata": {
        "id": "BfP0hM9sXwig",
        "outputId": "b4f5823b-dad7-4ba5-b311-ff807eb2b214",
        "colab": {
          "base_uri": "https://localhost:8080/"
        }
      },
      "source": [
        "len(cheems)"
      ],
      "execution_count": 8,
      "outputs": [
        {
          "output_type": "execute_result",
          "data": {
            "text/plain": [
              "15"
            ]
          },
          "metadata": {
            "tags": []
          },
          "execution_count": 8
        }
      ]
    },
    {
      "cell_type": "code",
      "metadata": {
        "id": "zpchhbbVX0WE"
      },
      "source": [
        "x = list(range(50,100,10))"
      ],
      "execution_count": 11,
      "outputs": []
    },
    {
      "cell_type": "code",
      "metadata": {
        "id": "uihxk-mrYgM9",
        "outputId": "f2251063-7722-4770-db11-39e10b413076",
        "colab": {
          "base_uri": "https://localhost:8080/"
        }
      },
      "source": [
        "print(x)\n",
        "    "
      ],
      "execution_count": 12,
      "outputs": [
        {
          "output_type": "stream",
          "text": [
            "[50, 60, 70, 80, 90]\n"
          ],
          "name": "stdout"
        }
      ]
    },
    {
      "cell_type": "code",
      "metadata": {
        "id": "Wu5j0ToaYmff",
        "outputId": "6940fcb8-354f-4990-c9e1-6132f5fe4972",
        "colab": {
          "base_uri": "https://localhost:8080/"
        }
      },
      "source": [
        "cheems = 'hemlo everyBody sup'\n",
        "len(cheems)"
      ],
      "execution_count": 16,
      "outputs": [
        {
          "output_type": "execute_result",
          "data": {
            "text/plain": [
              "19"
            ]
          },
          "metadata": {
            "tags": []
          },
          "execution_count": 16
        }
      ]
    },
    {
      "cell_type": "code",
      "metadata": {
        "id": "twjubH_PZxfP",
        "outputId": "8800edf7-56a1-4430-d339-805cc6aa9353",
        "colab": {
          "base_uri": "https://localhost:8080/"
        }
      },
      "source": [
        "for i in range(len(cheems)):\n",
        "  print(cheems)\n"
      ],
      "execution_count": 18,
      "outputs": [
        {
          "output_type": "stream",
          "text": [
            "hemlo everyBody sup\n",
            "hemlo everyBody sup\n",
            "hemlo everyBody sup\n",
            "hemlo everyBody sup\n",
            "hemlo everyBody sup\n",
            "hemlo everyBody sup\n",
            "hemlo everyBody sup\n",
            "hemlo everyBody sup\n",
            "hemlo everyBody sup\n",
            "hemlo everyBody sup\n",
            "hemlo everyBody sup\n",
            "hemlo everyBody sup\n",
            "hemlo everyBody sup\n",
            "hemlo everyBody sup\n",
            "hemlo everyBody sup\n",
            "hemlo everyBody sup\n",
            "hemlo everyBody sup\n",
            "hemlo everyBody sup\n",
            "hemlo everyBody sup\n"
          ],
          "name": "stdout"
        }
      ]
    },
    {
      "cell_type": "code",
      "metadata": {
        "id": "nWND30_YaW7H",
        "outputId": "67b0c9bd-89c8-423d-ce98-96e07d84ea0a",
        "colab": {
          "base_uri": "https://localhost:8080/"
        }
      },
      "source": [
        "for i in cheems:\n",
        "  print(i)"
      ],
      "execution_count": 19,
      "outputs": [
        {
          "output_type": "stream",
          "text": [
            "h\n",
            "e\n",
            "m\n",
            "l\n",
            "o\n",
            " \n",
            "e\n",
            "v\n",
            "e\n",
            "r\n",
            "y\n",
            "B\n",
            "o\n",
            "d\n",
            "y\n",
            " \n",
            "s\n",
            "u\n",
            "p\n"
          ],
          "name": "stdout"
        }
      ]
    },
    {
      "cell_type": "code",
      "metadata": {
        "id": "DWIZSMmgasLc"
      },
      "source": [
        "# for-else\n",
        "\n",
        "\n",
        "'''\n",
        "user input 1\n",
        "(10,30)\n",
        "\n",
        "else \n",
        "print(press 1 to print even number)\n",
        "\n",
        "'''"
      ],
      "execution_count": null,
      "outputs": []
    },
    {
      "cell_type": "code",
      "metadata": {
        "id": "YNOT-1eubFSm",
        "outputId": "cf6a4064-6a9c-4718-8f8d-4edcf007cf75",
        "colab": {
          "base_uri": "https://localhost:8080/"
        }
      },
      "source": [
        "choice = int(input('enter you choice'))\n",
        "\n",
        "if choice==1:\n",
        "  print(i)\n",
        "else:\n",
        "  print('press 1 next time')"
      ],
      "execution_count": 25,
      "outputs": [
        {
          "output_type": "stream",
          "text": [
            "enter you choice2\n",
            "press 1 next time\n"
          ],
          "name": "stdout"
        }
      ]
    },
    {
      "cell_type": "code",
      "metadata": {
        "id": "vK6BDhKAbFUZ",
        "outputId": "e618b976-3afc-4645-ba66-5472a6625606",
        "colab": {
          "base_uri": "https://localhost:8080/"
        }
      },
      "source": [
        "for i in range(0,10,5):\n",
        "  print(i)\n",
        "else:\n",
        "  print('yayy')"
      ],
      "execution_count": 26,
      "outputs": [
        {
          "output_type": "stream",
          "text": [
            "0\n",
            "5\n",
            "yayy\n"
          ],
          "name": "stdout"
        }
      ]
    },
    {
      "cell_type": "code",
      "metadata": {
        "id": "IZnFUIfhcFUe"
      },
      "source": [
        "'''\n",
        "if gender=male\n",
        "age>21\n",
        "print('eligible')\n",
        "age<21\n",
        "print('not eligible')\n",
        "\n",
        "gender=female\n",
        "age<>18\n",
        "print('eligible')\n",
        "age<18\n",
        "print('not eligible')\n",
        "\n",
        "else:\n",
        "  print('enter male or female')"
      ],
      "execution_count": null,
      "outputs": []
    },
    {
      "cell_type": "code",
      "metadata": {
        "id": "R6o0c7y1coOc",
        "outputId": "1d280497-fe72-4cef-c3d4-bc311b7fd2f8",
        "colab": {
          "base_uri": "https://localhost:8080/"
        }
      },
      "source": [
        "gender = str(input(\"enter your gender\"))\n",
        "age = int(input(\"enter age\"))\n",
        "if gender=='male':\n",
        "  if age>=21:\n",
        "    print(\"you can marry\")\n",
        "  elif age<21:\n",
        "    print(\"you cannoit marry\")\n",
        "  else:\n",
        "    print(\"please enter a number\")\n",
        "\n",
        "elif gender=='female':\n",
        "   if age>=18:\n",
        "    print(\"you can marry\")\n",
        "   elif age<18:\n",
        "     print(\"you cannot marry\")\n",
        "   else:\n",
        "       (\"please enter a number\")\n",
        "else:\n",
        "  (\"i am tired\")\n",
        "\n"
      ],
      "execution_count": 36,
      "outputs": [
        {
          "output_type": "stream",
          "text": [
            "enter your gendermale\n",
            "enter age34\n",
            "you can marry\n"
          ],
          "name": "stdout"
        }
      ]
    },
    {
      "cell_type": "code",
      "metadata": {
        "id": "G4xyvXXmfmyX"
      },
      "source": [
        "# continue, pass or break?"
      ],
      "execution_count": 37,
      "outputs": []
    },
    {
      "cell_type": "code",
      "metadata": {
        "id": "w6q3dSRcf4Ef",
        "outputId": "08849ff7-1871-44c5-ee55-918fda514c0a",
        "colab": {
          "base_uri": "https://localhost:8080/"
        }
      },
      "source": [
        "i = 10\n",
        "while i<20:\n",
        "  print(i)\n",
        "  i+=1\n"
      ],
      "execution_count": 38,
      "outputs": [
        {
          "output_type": "stream",
          "text": [
            "10\n",
            "11\n",
            "12\n",
            "13\n",
            "14\n",
            "15\n",
            "16\n",
            "17\n",
            "18\n",
            "19\n"
          ],
          "name": "stdout"
        }
      ]
    },
    {
      "cell_type": "code",
      "metadata": {
        "id": "e0Ss3Gbygl3j",
        "outputId": "4b73fe15-f426-4304-dba5-84a5702a2b6c",
        "colab": {
          "base_uri": "https://localhost:8080/"
        }
      },
      "source": [
        "i = int(input(\"enter a positive value\"))\n",
        "limit = i+10\n",
        "while i<limit:\n",
        "  print(i)\n",
        "  i+=1\n",
        "else:\n",
        "  print(\"I have done my job\")"
      ],
      "execution_count": 40,
      "outputs": [
        {
          "output_type": "stream",
          "text": [
            "enter a positive value9999\n",
            "9999\n",
            "10000\n",
            "10001\n",
            "10002\n",
            "10003\n",
            "10004\n",
            "10005\n",
            "10006\n",
            "10007\n",
            "10008\n",
            "I have done my job\n"
          ],
          "name": "stdout"
        }
      ]
    },
    {
      "cell_type": "code",
      "metadata": {
        "id": "v2gNbGeSi7Fm"
      },
      "source": [
        ""
      ],
      "execution_count": null,
      "outputs": []
    }
  ]
}