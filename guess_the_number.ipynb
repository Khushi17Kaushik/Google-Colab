{
  "nbformat": 4,
  "nbformat_minor": 0,
  "metadata": {
    "colab": {
      "name": "guess the number.ipynb",
      "provenance": [],
      "authorship_tag": "ABX9TyOP8AKizbqhljgRwPJ/tEoj",
      "include_colab_link": true
    },
    "kernelspec": {
      "name": "python3",
      "display_name": "Python 3"
    }
  },
  "cells": [
    {
      "cell_type": "markdown",
      "metadata": {
        "id": "view-in-github",
        "colab_type": "text"
      },
      "source": [
        "<a href=\"https://colab.research.google.com/github/Khushi17Kaushik/Google-Colab/blob/main/guess_the_number.ipynb\" target=\"_parent\"><img src=\"https://colab.research.google.com/assets/colab-badge.svg\" alt=\"Open In Colab\"/></a>"
      ]
    },
    {
      "cell_type": "code",
      "metadata": {
        "id": "zaARipQq5wiU"
      },
      "source": [
        "##############NUMBER GUESSING GAME############"
      ],
      "execution_count": null,
      "outputs": []
    },
    {
      "cell_type": "code",
      "metadata": {
        "colab": {
          "base_uri": "https://localhost:8080/",
          "height": 86
        },
        "id": "JTf82treBxbW",
        "outputId": "77c57a9b-f1c3-427e-bf01-38d3029d7df6"
      },
      "source": [
        "'''\n",
        "Define a magic number \n",
        "Input your guess\n",
        "You are below that number\n",
        "You are above that number\n",
        "Yes this is the number\n",
        "'''"
      ],
      "execution_count": null,
      "outputs": [
        {
          "output_type": "execute_result",
          "data": {
            "application/vnd.google.colaboratory.intrinsic+json": {
              "type": "string"
            },
            "text/plain": [
              "'\\nDefine a magic number \\nInput your guess\\nYou are below that number\\nYou are above that number\\nYes this is the number\\n'"
            ]
          },
          "metadata": {
            "tags": []
          },
          "execution_count": 2
        }
      ]
    },
    {
      "cell_type": "code",
      "metadata": {
        "colab": {
          "base_uri": "https://localhost:8080/"
        },
        "id": "2zE6HKv1CR7i",
        "outputId": "5abdc439-1cdc-4ae2-ba0e-2e2ac5c116a0"
      },
      "source": [
        " \n",
        "magic_number = 45\n",
        "guess = int(input(\"Enter your Guess\"))\n",
        "confirm = int(input (\"Confirm you number\"))\n",
        "value = (confirm != magic_number)\n",
        "while confirm<magic_number:\n",
        "     print(\"You are below that number\\n\")\n",
        "     confirm = int(input(\"try again\"))\n",
        "while confirm>magic_number:\n",
        "     print(\"You are above that number\\n\")\n",
        "     confirm = int(input(\"try again\"))\n",
        "while confirm==magic_number:\n",
        "    print(\"Yes this is the answer\\n\")\n",
        "    break\n",
        "    \n",
        "  "
      ],
      "execution_count": 9,
      "outputs": [
        {
          "output_type": "stream",
          "text": [
            "Enter your Guess34\n",
            "Confirm you number34\n",
            "You are below that number\n",
            "\n",
            "try again76\n",
            "You are above that number\n",
            "\n",
            "try again76\n",
            "You are above that number\n",
            "\n",
            "try again45\n",
            "Yes this is the answer\n",
            "\n"
          ],
          "name": "stdout"
        }
      ]
    }
  ]
}