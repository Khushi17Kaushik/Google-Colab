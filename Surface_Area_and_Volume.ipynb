{
  "nbformat": 4,
  "nbformat_minor": 0,
  "metadata": {
    "colab": {
      "name": "Surface Area and Volume.ipynb",
      "provenance": [],
      "collapsed_sections": [],
      "authorship_tag": "ABX9TyN4sZyJD0yzO55Je1UdxVd9",
      "include_colab_link": true
    },
    "kernelspec": {
      "name": "python3",
      "display_name": "Python 3"
    }
  },
  "cells": [
    {
      "cell_type": "markdown",
      "metadata": {
        "id": "view-in-github",
        "colab_type": "text"
      },
      "source": [
        "<a href=\"https://colab.research.google.com/github/Khushi17Kaushik/Google-Colab/blob/main/Surface_Area_and_Volume.ipynb\" target=\"_parent\"><img src=\"https://colab.research.google.com/assets/colab-badge.svg\" alt=\"Open In Colab\"/></a>"
      ]
    },
    {
      "cell_type": "code",
      "metadata": {
        "id": "X4fMjw0NDQlJ",
        "outputId": "088537f4-31e4-489d-9af5-f9b2e1b97802",
        "colab": {
          "base_uri": "https://localhost:8080/",
          "height": 35
        }
      },
      "source": [
        "'''\n",
        "   author @Khushi17Kaushik \n",
        "   version3.5.2\n",
        "   windows 7\n",
        "'''"
      ],
      "execution_count": 1,
      "outputs": [
        {
          "output_type": "execute_result",
          "data": {
            "application/vnd.google.colaboratory.intrinsic+json": {
              "type": "string"
            },
            "text/plain": [
              "'\\n   author @Khushi17Kaushik \\n   version3.5.2\\n   windows 7\\n'"
            ]
          },
          "metadata": {
            "tags": []
          },
          "execution_count": 1
        }
      ]
    },
    {
      "cell_type": "code",
      "metadata": {
        "id": "UuhB4Lh7VIbA"
      },
      "source": [
        ""
      ],
      "execution_count": null,
      "outputs": []
    },
    {
      "cell_type": "code",
      "metadata": {
        "id": "VtPhC23LDt85"
      },
      "source": [
        "########## Surface Area and Volume ########"
      ],
      "execution_count": null,
      "outputs": []
    },
    {
      "cell_type": "code",
      "metadata": {
        "id": "cbWRfgsND01-",
        "outputId": "e880ffee-751f-4b38-8981-7fc2af7b5156",
        "colab": {
          "base_uri": "https://localhost:8080/"
        }
      },
      "source": [
        " \n",
        "length= int(input(\"Enter the length of cuboid\"))"
      ],
      "execution_count": null,
      "outputs": [
        {
          "output_type": "stream",
          "text": [
            "Enter the length of cuboid1\n"
          ],
          "name": "stdout"
        }
      ]
    },
    {
      "cell_type": "code",
      "metadata": {
        "id": "kWCSBXSUKYz6",
        "outputId": "143de56a-f1b7-4898-c82f-3388087b1b45",
        "colab": {
          "base_uri": "https://localhost:8080/"
        }
      },
      "source": [
        " breadth = int(input(\"Enter the breadth of cuboid\"))"
      ],
      "execution_count": null,
      "outputs": [
        {
          "output_type": "stream",
          "text": [
            "Enter the breadth of cuboid2\n"
          ],
          "name": "stdout"
        }
      ]
    },
    {
      "cell_type": "code",
      "metadata": {
        "id": "XnLDYKSZKfJ2",
        "outputId": "f0cfc03b-8a9f-4771-c6f7-fdfaaf45e9e9",
        "colab": {
          "base_uri": "https://localhost:8080/"
        }
      },
      "source": [
        " height = int(input(\"Enter the height of cuboid\"))"
      ],
      "execution_count": null,
      "outputs": [
        {
          "output_type": "stream",
          "text": [
            "Enter the height of cuboid3\n"
          ],
          "name": "stdout"
        }
      ]
    },
    {
      "cell_type": "code",
      "metadata": {
        "id": "f0CHLPAjKkCG",
        "outputId": "69d3712d-66ea-49e1-aa41-9d9dcc6a92e3",
        "colab": {
          "base_uri": "https://localhost:8080/"
        }
      },
      "source": [
        "Volume = length*breadth*height \n",
        "print(\"Volume is : \\t\",Volume)"
      ],
      "execution_count": null,
      "outputs": [
        {
          "output_type": "stream",
          "text": [
            "Volume is : \t 6\n"
          ],
          "name": "stdout"
        }
      ]
    },
    {
      "cell_type": "code",
      "metadata": {
        "id": "yz6i_RZVLScL",
        "outputId": "416aa670-4272-4109-a30e-42cc838c4b94",
        "colab": {
          "base_uri": "https://localhost:8080/"
        }
      },
      "source": [
        "LateralArea = 2*(length+breadth)*height\n",
        "print(\"Lateral Surface Area is : \\t\",LateralArea)"
      ],
      "execution_count": null,
      "outputs": [
        {
          "output_type": "stream",
          "text": [
            "Lateral Surface Area is : \t 18\n"
          ],
          "name": "stdout"
        }
      ]
    },
    {
      "cell_type": "code",
      "metadata": {
        "id": "kDSY8p4QMNtL",
        "outputId": "cd1aca50-1f1d-4423-952d-ea10462249dc",
        "colab": {
          "base_uri": "https://localhost:8080/"
        }
      },
      "source": [
        "TotalArea = 2*(length*breadth + breadth*height + height*length)\n",
        "print(\"Total Surface Area is : \\t\",TotalArea)"
      ],
      "execution_count": null,
      "outputs": [
        {
          "output_type": "stream",
          "text": [
            "Total Surface Area is : \t 22\n"
          ],
          "name": "stdout"
        }
      ]
    },
    {
      "cell_type": "code",
      "metadata": {
        "id": "n2Q3tpLWMwcB",
        "outputId": "66508f05-2070-433b-a719-8c3495857d13",
        "colab": {
          "base_uri": "https://localhost:8080/"
        }
      },
      "source": [
        "edge = int(input(\"Enter the edge of cube\"))"
      ],
      "execution_count": null,
      "outputs": [
        {
          "output_type": "stream",
          "text": [
            "Enter the edge of cube2\n"
          ],
          "name": "stdout"
        }
      ]
    },
    {
      "cell_type": "code",
      "metadata": {
        "id": "iaCVkjYONEmL",
        "outputId": "a821a5c8-06eb-4f8f-b1bd-2113d8e5a4c3",
        "colab": {
          "base_uri": "https://localhost:8080/"
        }
      },
      "source": [
        "Volumecube = edge*edge*edge\n",
        "print(\"volume of cube is : \\t\",Volumecube)"
      ],
      "execution_count": null,
      "outputs": [
        {
          "output_type": "stream",
          "text": [
            "volume of cube is : \t 8\n"
          ],
          "name": "stdout"
        }
      ]
    },
    {
      "cell_type": "code",
      "metadata": {
        "id": "NFrttUPzNYLN",
        "outputId": "6329c98e-1873-4c9a-baa5-e571f27ab45b",
        "colab": {
          "base_uri": "https://localhost:8080/"
        }
      },
      "source": [
        "SurfaceAreacube = 4*edge*edge\n",
        "print(\"Surface Area of Cube is : \\t\",SurfaceAreacube)"
      ],
      "execution_count": null,
      "outputs": [
        {
          "output_type": "stream",
          "text": [
            "Surface Area of Cube is : \t 16\n"
          ],
          "name": "stdout"
        }
      ]
    },
    {
      "cell_type": "code",
      "metadata": {
        "id": "MFj8fTc4NoQy",
        "outputId": "8cce7c6a-4614-4034-a311-b8d0a5e8ac43",
        "colab": {
          "base_uri": "https://localhost:8080/"
        }
      },
      "source": [
        "TotalAreacube = 6*edge*edge\n",
        "print(\"Total Surface Area of Cube is : \\t\",TotalAreacube)"
      ],
      "execution_count": null,
      "outputs": [
        {
          "output_type": "stream",
          "text": [
            "Total Surface Area of Cube is : \t 24\n"
          ],
          "name": "stdout"
        }
      ]
    },
    {
      "cell_type": "code",
      "metadata": {
        "id": "44Q4GVicOR6q",
        "outputId": "c7d38339-5264-4999-9485-ba9086979e4f",
        "colab": {
          "base_uri": "https://localhost:8080/"
        }
      },
      "source": [
        "radius = int(input(\"Enter the radius of Sphere\"))"
      ],
      "execution_count": null,
      "outputs": [
        {
          "output_type": "stream",
          "text": [
            "Enter the radius of Sphere5\n"
          ],
          "name": "stdout"
        }
      ]
    },
    {
      "cell_type": "code",
      "metadata": {
        "id": "QK3Kmme6OlQl",
        "outputId": "466b7693-08d0-4a21-95d3-2a201bf99538",
        "colab": {
          "base_uri": "https://localhost:8080/"
        }
      },
      "source": [
        "TotalAreasphere = 4*3.14*radius*radius\n",
        "print(\"Curved Surface Area of Sphere is :\\t\",TotalAreasphere)"
      ],
      "execution_count": null,
      "outputs": [
        {
          "output_type": "stream",
          "text": [
            "Curved Surface Area of Sphere is :\t 314.0\n"
          ],
          "name": "stdout"
        }
      ]
    },
    {
      "cell_type": "code",
      "metadata": {
        "id": "Re9cDnCMPYpr",
        "outputId": "6d685147-4fa3-4f1d-8947-55dec78c6df8",
        "colab": {
          "base_uri": "https://localhost:8080/"
        }
      },
      "source": [
        "Volumesphere = 4/3*3.14*radius*radius*radius\n",
        "print(\"volume of sphere is : \\t\",Volumesphere)"
      ],
      "execution_count": null,
      "outputs": [
        {
          "output_type": "stream",
          "text": [
            "volume of sphere is : \t 523.3333333333334\n"
          ],
          "name": "stdout"
        }
      ]
    },
    {
      "cell_type": "code",
      "metadata": {
        "id": "i1vHAYcBQU8O"
      },
      "source": [
        "################# End ###################"
      ],
      "execution_count": null,
      "outputs": []
    },
    {
      "cell_type": "code",
      "metadata": {
        "id": "1MIiM6DXQvlX"
      },
      "source": [
        ""
      ],
      "execution_count": null,
      "outputs": []
    }
  ]
}