{
  "nbformat": 4,
  "nbformat_minor": 0,
  "metadata": {
    "colab": {
      "name": "Copy of Calendar Test.ipynb",
      "provenance": [],
      "collapsed_sections": [],
      "authorship_tag": "ABX9TyPH7LWOGRWS/Zo22/u1pPSd",
      "include_colab_link": true
    },
    "kernelspec": {
      "name": "python3",
      "display_name": "Python 3"
    }
  },
  "cells": [
    {
      "cell_type": "markdown",
      "metadata": {
        "id": "view-in-github",
        "colab_type": "text"
      },
      "source": [
        "<a href=\"https://colab.research.google.com/github/Khushi17Kaushik/Google-Colab/blob/main/Calendar_Test.ipynb\" target=\"_parent\"><img src=\"https://colab.research.google.com/assets/colab-badge.svg\" alt=\"Open In Colab\"/></a>"
      ]
    },
    {
      "cell_type": "code",
      "metadata": {
        "id": "YN_QPn1aVeCc",
        "outputId": "b8450584-7f48-4668-e9c8-8a83ad64b5b8",
        "colab": {
          "base_uri": "https://localhost:8080/",
          "height": 35
        }
      },
      "source": [
        "'''\n",
        "   author @anantshahi \n",
        "   windows 7\n",
        "   Google Colab\n",
        "'''"
      ],
      "execution_count": 1,
      "outputs": [
        {
          "output_type": "execute_result",
          "data": {
            "application/vnd.google.colaboratory.intrinsic+json": {
              "type": "string"
            },
            "text/plain": [
              "'\\n   author @anantshahi \\n   windows 7\\n   Google Colab\\n'"
            ]
          },
          "metadata": {
            "tags": []
          },
          "execution_count": 1
        }
      ]
    },
    {
      "cell_type": "code",
      "metadata": {
        "id": "WaW8Ij3VWDlD"
      },
      "source": [
        "############ CALENDAR TEST ##############"
      ],
      "execution_count": null,
      "outputs": []
    },
    {
      "cell_type": "code",
      "metadata": {
        "id": "hDyUUKZuWL-l",
        "outputId": "c72ba654-35f4-49f5-9c78-8fe0cc6cab67",
        "colab": {
          "base_uri": "https://localhost:8080/"
        }
      },
      "source": [
        "date = int(input(\"Enter the date :\\t\"))"
      ],
      "execution_count": 44,
      "outputs": [
        {
          "output_type": "stream",
          "text": [
            "Enter the date :\t15\n"
          ],
          "name": "stdout"
        }
      ]
    },
    {
      "cell_type": "code",
      "metadata": {
        "id": "rKD0arClWylf",
        "outputId": "d74049a0-f406-4b4f-c1dd-f5d0d0a44040",
        "colab": {
          "base_uri": "https://localhost:8080/"
        }
      },
      "source": [
        "year = int(input(\"Enter the last 2 digit of year dont count zero at the tens position:\\t\"))"
      ],
      "execution_count": 27,
      "outputs": [
        {
          "output_type": "stream",
          "text": [
            "Enter the last 2 digit of year dont count zero at the tens position:\t7\n"
          ],
          "name": "stdout"
        }
      ]
    },
    {
      "cell_type": "code",
      "metadata": {
        "id": "iWlrN0AuW-5U",
        "outputId": "dc722f65-a50c-45aa-b07f-7c0d3475ea05",
        "colab": {
          "base_uri": "https://localhost:8080/"
        }
      },
      "source": [
        "a = year/4\n",
        "print(a)"
      ],
      "execution_count": 28,
      "outputs": [
        {
          "output_type": "stream",
          "text": [
            "1.75\n"
          ],
          "name": "stdout"
        }
      ]
    },
    {
      "cell_type": "code",
      "metadata": {
        "id": "m08pDJP8XQr1",
        "outputId": "188722c9-5b20-46a2-8301-de7d75357ee9",
        "colab": {
          "base_uri": "https://localhost:8080/"
        }
      },
      "source": [
        "b = a+date\n",
        "print(b)"
      ],
      "execution_count": 29,
      "outputs": [
        {
          "output_type": "stream",
          "text": [
            "23.75\n"
          ],
          "name": "stdout"
        }
      ]
    },
    {
      "cell_type": "code",
      "metadata": {
        "id": "82aNPHHrXV2Z",
        "outputId": "a3ee1b6b-8ef9-492e-fcd0-9ba539cb49b8",
        "colab": {
          "base_uri": "https://localhost:8080/"
        }
      },
      "source": [
        "month=int(input(\"Enter the month number:\\t\"))"
      ],
      "execution_count": 30,
      "outputs": [
        {
          "output_type": "stream",
          "text": [
            "Enter the month number:\t2\n"
          ],
          "name": "stdout"
        }
      ]
    },
    {
      "cell_type": "code",
      "metadata": {
        "id": "AyUFjDFSXp5_",
        "outputId": "4d4d781a-7c97-4d26-d8b0-d3880fdbaf84",
        "colab": {
          "base_uri": "https://localhost:8080/"
        }
      },
      "source": [
        "if month==1:\n",
        "   c = 1+b\n",
        "   print(c)\n",
        "elif month==2:\n",
        "   c = 4+b\n",
        "   print(c)\n",
        "elif month==3:\n",
        "   c = 4+b\n",
        "   print(c)\n",
        "elif month==4:\n",
        "   c = 0+b\n",
        "   print(c)\n",
        "elif month==5:\n",
        "   c = 2+b\n",
        "   print(c)\n",
        "elif month==6:\n",
        "   c = 5+b\n",
        "   print(c)\n",
        "elif month==7:\n",
        "   c = 0+b\n",
        "   print(c)\n",
        "elif month==8:\n",
        "   c = 3+b\n",
        "   print(c)\n",
        "elif month==9:\n",
        "   c = 6+b\n",
        "   print(c)\n",
        "elif month==10:\n",
        "   c = 1+b\n",
        "   print(c)\n",
        "elif month==11:\n",
        "   c = 4+b\n",
        "   print(c)\n",
        "elif month==12:\n",
        "   c = 6+b\n",
        "   print(c)\n",
        "else:\n",
        "   print(\"wrong information\")"
      ],
      "execution_count": 31,
      "outputs": [
        {
          "output_type": "stream",
          "text": [
            "27.75\n"
          ],
          "name": "stdout"
        }
      ]
    },
    {
      "cell_type": "code",
      "metadata": {
        "id": "Ogbo2gsia1mi",
        "outputId": "1d5c000b-e20c-49fa-ddb9-6cf7d6b95cec",
        "colab": {
          "base_uri": "https://localhost:8080/"
        }
      },
      "source": [
        "if year%4==0 and (month==1 or month==2):\n",
        "   d = c-1\n",
        "   print(d)\n",
        "else:\n",
        "   print(c)"
      ],
      "execution_count": 32,
      "outputs": [
        {
          "output_type": "stream",
          "text": [
            "27.75\n"
          ],
          "name": "stdout"
        }
      ]
    },
    {
      "cell_type": "code",
      "metadata": {
        "id": "-fF5MWlhc5MY",
        "outputId": "789ecc3a-463a-4f8e-86d0-332ac73afcef",
        "colab": {
          "base_uri": "https://localhost:8080/"
        }
      },
      "source": [
        "Newvalue = float(input(\"Enter the above value calculated:\\t\"))"
      ],
      "execution_count": 34,
      "outputs": [
        {
          "output_type": "stream",
          "text": [
            "Enter the above value calculated:\t27.75\n"
          ],
          "name": "stdout"
        }
      ]
    },
    {
      "cell_type": "code",
      "metadata": {
        "id": "sg6h8Pxwd9NE",
        "outputId": "633dd628-7c35-4e51-c3a4-14aa623d36ce",
        "colab": {
          "base_uri": "https://localhost:8080/"
        }
      },
      "source": [
        "century = int(input(\"Enter the century 1700,1800,1900,2000:\\t\"))"
      ],
      "execution_count": 35,
      "outputs": [
        {
          "output_type": "stream",
          "text": [
            "Enter the century 1700,1800,1900,2000:\t2000\n"
          ],
          "name": "stdout"
        }
      ]
    },
    {
      "cell_type": "code",
      "metadata": {
        "id": "VpRiOi35eTvy",
        "outputId": "82aa7230-38f7-43b0-f2ab-4cfbaa5ba9cb",
        "colab": {
          "base_uri": "https://localhost:8080/"
        }
      },
      "source": [
        "if century==1700:\n",
        "   Total = 4+Newvalue \n",
        "   print(Total)\n",
        "if century==1800:\n",
        "   Total = 2+Newvalue\n",
        "   print(Total)\n",
        "if century==1900:\n",
        "   Total = 0+Newvalue\n",
        "   print(Total)\n",
        "if century==2000:\n",
        "   Total = 6+Newvalue\n",
        "   print(Total)"
      ],
      "execution_count": 36,
      "outputs": [
        {
          "output_type": "stream",
          "text": [
            "33.75\n"
          ],
          "name": "stdout"
        }
      ]
    },
    {
      "cell_type": "code",
      "metadata": {
        "id": "x7neuLQJfQe9",
        "outputId": "800c6b63-b251-4f68-8e31-63a4e37fcc82",
        "colab": {
          "base_uri": "https://localhost:8080/"
        }
      },
      "source": [
        "add= Total+year\n",
        "print(add)"
      ],
      "execution_count": 37,
      "outputs": [
        {
          "output_type": "stream",
          "text": [
            "40.75\n"
          ],
          "name": "stdout"
        }
      ]
    },
    {
      "cell_type": "code",
      "metadata": {
        "id": "keXu3bXpfdkb",
        "outputId": "eb7b6bcc-205f-404c-ce13-ac0d0da73727",
        "colab": {
          "base_uri": "https://localhost:8080/"
        }
      },
      "source": [
        "div= add%7\n",
        "print(div)"
      ],
      "execution_count": 41,
      "outputs": [
        {
          "output_type": "stream",
          "text": [
            "5.75\n"
          ],
          "name": "stdout"
        }
      ]
    },
    {
      "cell_type": "code",
      "metadata": {
        "id": "VZAkwrOXidpQ",
        "outputId": "34c4036d-0e19-4deb-f2e0-7164b05ffb87",
        "colab": {
          "base_uri": "https://localhost:8080/"
        }
      },
      "source": [
        "print(\"If the above required number is in decimal\")"
      ],
      "execution_count": null,
      "outputs": [
        {
          "output_type": "stream",
          "text": [
            "If the above required number is in decimal\n"
          ],
          "name": "stdout"
        }
      ]
    },
    {
      "cell_type": "code",
      "metadata": {
        "id": "Vpe0WkRmin9M",
        "outputId": "26f8bfcb-a6ca-4e67-e031-82915189e412",
        "colab": {
          "base_uri": "https://localhost:8080/"
        }
      },
      "source": [
        "Value = int(input (\"Enter the above value not including the decimal value\"))"
      ],
      "execution_count": 42,
      "outputs": [
        {
          "output_type": "stream",
          "text": [
            "Enter the above value not including the decimal value5\n"
          ],
          "name": "stdout"
        }
      ]
    },
    {
      "cell_type": "code",
      "metadata": {
        "id": "5ng8LIPPiztY",
        "outputId": "60e12a55-1aba-417d-b061-a9579f747eab",
        "colab": {
          "base_uri": "https://localhost:8080/"
        }
      },
      "source": [
        " if Value==0:\n",
        "   print(\"Saturday\")\n",
        "if Value==1:\n",
        "   print(\"Sunday\")\n",
        "if Value==2:\n",
        "   print(\"Monday\")\n",
        "if Value==3:\n",
        "   print(\"Tuesday\")\n",
        "if Value==4:\n",
        "   print(\"Wednesday\")\n",
        "if Value==5:\n",
        "   print(\"Thursday\")\n",
        "if Value==6:\n",
        "   print(\"Friday\")"
      ],
      "execution_count": 43,
      "outputs": [
        {
          "output_type": "stream",
          "text": [
            "Thursday\n"
          ],
          "name": "stdout"
        }
      ]
    },
    {
      "cell_type": "code",
      "metadata": {
        "id": "vsMUHWMai_vJ"
      },
      "source": [
        "################ ♤♤♤ ##################"
      ],
      "execution_count": null,
      "outputs": []
    },
    {
      "cell_type": "code",
      "metadata": {
        "id": "D4d4HuqQidmY"
      },
      "source": [
        ""
      ],
      "execution_count": null,
      "outputs": []
    }
  ]
}