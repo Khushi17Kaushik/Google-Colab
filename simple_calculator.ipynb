{
  "nbformat": 4,
  "nbformat_minor": 0,
  "metadata": {
    "colab": {
      "name": "simple calculator.ipynb",
      "provenance": [],
      "collapsed_sections": [],
      "toc_visible": true,
      "authorship_tag": "ABX9TyNNn3NZ2MZoSHUFl2XoC2ZZ",
      "include_colab_link": true
    },
    "kernelspec": {
      "name": "python3",
      "display_name": "Python 3"
    }
  },
  "cells": [
    {
      "cell_type": "markdown",
      "metadata": {
        "id": "view-in-github",
        "colab_type": "text"
      },
      "source": [
        "<a href=\"https://colab.research.google.com/github/Khushi17Kaushik/Google-Colab/blob/main/simple_calculator.ipynb\" target=\"_parent\"><img src=\"https://colab.research.google.com/assets/colab-badge.svg\" alt=\"Open In Colab\"/></a>"
      ]
    },
    {
      "cell_type": "code",
      "metadata": {
        "id": "SLVEBTSvG3tS",
        "outputId": "281972d8-4d7e-4f57-d07e-387df73ec18c",
        "colab": {
          "base_uri": "https://localhost:8080/",
          "height": 35
        }
      },
      "source": [
        "''' author @anantshahi\n",
        "    platform @ google colab\n",
        "    version 3.5.2\n",
        "'''\n",
        "#################### SIMPLE CALCULATOR ##################\n"
      ],
      "execution_count": null,
      "outputs": [
        {
          "output_type": "execute_result",
          "data": {
            "application/vnd.google.colaboratory.intrinsic+json": {
              "type": "string"
            },
            "text/plain": [
              "' author @anantshahi\\n    platform @ google colab\\n    version 3.5.2\\n'"
            ]
          },
          "metadata": {
            "tags": []
          },
          "execution_count": 42
        }
      ]
    },
    {
      "cell_type": "code",
      "metadata": {
        "id": "a3TN6Ri5OLg1",
        "outputId": "fac698b0-2f1b-445a-c81c-53a3715dee0b",
        "colab": {
          "base_uri": "https://localhost:8080/"
        }
      },
      "source": [
        "# Agenda: to take two integer inputs and perform arithmetic operations\n",
        "number1= int(input(\"enter first number\"))"
      ],
      "execution_count": null,
      "outputs": [
        {
          "output_type": "stream",
          "text": [
            "enter first number20\n"
          ],
          "name": "stdout"
        }
      ]
    },
    {
      "cell_type": "code",
      "metadata": {
        "id": "5OZpKNEDOs3n",
        "outputId": "988d8662-50d2-4df1-94d9-a5d9c91f8991",
        "colab": {
          "base_uri": "https://localhost:8080/"
        }
      },
      "source": [
        "number2 = int(input(\"enter second number\"))"
      ],
      "execution_count": null,
      "outputs": [
        {
          "output_type": "stream",
          "text": [
            "enter second number10\n"
          ],
          "name": "stdout"
        }
      ]
    },
    {
      "cell_type": "code",
      "metadata": {
        "id": "H2L_jFDYO6Tk"
      },
      "source": [
        "addition = number1+number2\n",
        "substraction = number1-number2\n",
        "multiplication = number1*number2\n",
        "division = number1/number2\n",
        "modulo = number%number2\n",
        "floorD = number1//number2\n",
        "exponent = number1**number2\n"
      ],
      "execution_count": null,
      "outputs": []
    },
    {
      "cell_type": "code",
      "metadata": {
        "id": "AvDJ4p6kPymY",
        "outputId": "d31b5466-08c6-4136-e21e-e4f5d524932e",
        "colab": {
          "base_uri": "https://localhost:8080/"
        }
      },
      "source": [
        "print(\"addition is:\\t\",addition)"
      ],
      "execution_count": null,
      "outputs": [
        {
          "output_type": "stream",
          "text": [
            "addition is:\t 30\n"
          ],
          "name": "stdout"
        }
      ]
    },
    {
      "cell_type": "code",
      "metadata": {
        "id": "As0ySuTaUn55",
        "outputId": "f9acf266-3d18-42b7-f6b7-9f4a773f2b00",
        "colab": {
          "base_uri": "https://localhost:8080/"
        }
      },
      "source": [
        "print(\"substraction is:\\t\",substraction)"
      ],
      "execution_count": null,
      "outputs": [
        {
          "output_type": "stream",
          "text": [
            "substraction is:\t 10\n"
          ],
          "name": "stdout"
        }
      ]
    },
    {
      "cell_type": "code",
      "metadata": {
        "id": "BXybHay6VbhC",
        "outputId": "cef6240a-6ca4-4810-c4b7-521b657b18e8",
        "colab": {
          "base_uri": "https://localhost:8080/"
        }
      },
      "source": [
        "print(\"multiplication is: \\t\",multiplication)"
      ],
      "execution_count": null,
      "outputs": [
        {
          "output_type": "stream",
          "text": [
            "multiplication is: \t 200\n"
          ],
          "name": "stdout"
        }
      ]
    },
    {
      "cell_type": "code",
      "metadata": {
        "id": "QPIkqCWmVksM",
        "outputId": "8d920c12-0ff2-42bc-eabd-3d1095820f0d",
        "colab": {
          "base_uri": "https://localhost:8080/"
        }
      },
      "source": [
        "print(\"division is: \\t\",division)"
      ],
      "execution_count": null,
      "outputs": [
        {
          "output_type": "stream",
          "text": [
            "division is: \t 2.0\n"
          ],
          "name": "stdout"
        }
      ]
    },
    {
      "cell_type": "code",
      "metadata": {
        "id": "K_YchgY6VtV1",
        "outputId": "f19acb5f-d002-4a78-f6a0-c43d6ea3e3ed",
        "colab": {
          "base_uri": "https://localhost:8080/"
        }
      },
      "source": [
        "print(\"modulo is: \\t\",modulo)"
      ],
      "execution_count": null,
      "outputs": [
        {
          "output_type": "stream",
          "text": [
            "modulo is: \t 9\n"
          ],
          "name": "stdout"
        }
      ]
    },
    {
      "cell_type": "code",
      "metadata": {
        "id": "u5Y3SxXgV3BK",
        "outputId": "3538bd12-5f0f-46af-e057-287771426164",
        "colab": {
          "base_uri": "https://localhost:8080/"
        }
      },
      "source": [
        "print(\"floorD is : \\t\",floorD)"
      ],
      "execution_count": null,
      "outputs": [
        {
          "output_type": "stream",
          "text": [
            "floorD is : \t 2\n"
          ],
          "name": "stdout"
        }
      ]
    },
    {
      "cell_type": "code",
      "metadata": {
        "id": "4NhAc2ARWDHn",
        "outputId": "30f9c0db-3452-43f0-b118-51f77d909914",
        "colab": {
          "base_uri": "https://localhost:8080/"
        }
      },
      "source": [
        "print(\"exponent is : \\t\",exponent)"
      ],
      "execution_count": null,
      "outputs": [
        {
          "output_type": "stream",
          "text": [
            "exponent is : \t 10240000000000\n"
          ],
          "name": "stdout"
        }
      ]
    }
  ]
}