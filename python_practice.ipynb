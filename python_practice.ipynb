{
  "nbformat": 4,
  "nbformat_minor": 0,
  "metadata": {
    "colab": {
      "name": "python practice.ipynb",
      "provenance": [],
      "authorship_tag": "ABX9TyPFCUYVZRsXAOZG80vL+9OB",
      "include_colab_link": true
    },
    "kernelspec": {
      "name": "python3",
      "display_name": "Python 3"
    }
  },
  "cells": [
    {
      "cell_type": "markdown",
      "metadata": {
        "id": "view-in-github",
        "colab_type": "text"
      },
      "source": [
        "<a href=\"https://colab.research.google.com/github/Khushi17Kaushik/Google-Colab/blob/main/python_practice.ipynb\" target=\"_parent\"><img src=\"https://colab.research.google.com/assets/colab-badge.svg\" alt=\"Open In Colab\"/></a>"
      ]
    },
    {
      "cell_type": "code",
      "metadata": {
        "id": "3vzJJx1WhDSY",
        "outputId": "ff6f0110-87a0-472d-b7b2-39e92e4f2b3b",
        "colab": {
          "base_uri": "https://localhost:8080/"
        }
      },
      "source": [
        "x = 89\n",
        "id(x)\n"
      ],
      "execution_count": 2,
      "outputs": [
        {
          "output_type": "execute_result",
          "data": {
            "text/plain": [
              "10917312"
            ]
          },
          "metadata": {
            "tags": []
          },
          "execution_count": 2
        }
      ]
    },
    {
      "cell_type": "code",
      "metadata": {
        "id": "SReBQKuYjIAe",
        "outputId": "889165c5-cc12-422a-b04f-0c9961762b3d",
        "colab": {
          "base_uri": "https://localhost:8080/"
        }
      },
      "source": [
        "x = 98\n",
        "id(x) # numeric datatype are immutable in nature"
      ],
      "execution_count": 3,
      "outputs": [
        {
          "output_type": "execute_result",
          "data": {
            "text/plain": [
              "10917600"
            ]
          },
          "metadata": {
            "tags": []
          },
          "execution_count": 3
        }
      ]
    },
    {
      "cell_type": "code",
      "metadata": {
        "id": "Zbt_QxUZjbr0",
        "outputId": "f113adf7-c645-4ee9-a0ac-ee9e5574419f",
        "colab": {
          "base_uri": "https://localhost:8080/"
        }
      },
      "source": [
        "the_trio = ['khushi','sonali','aakriti']\n",
        "id(the_trio)"
      ],
      "execution_count": 4,
      "outputs": [
        {
          "output_type": "execute_result",
          "data": {
            "text/plain": [
              "140203003155528"
            ]
          },
          "metadata": {
            "tags": []
          },
          "execution_count": 4
        }
      ]
    },
    {
      "cell_type": "code",
      "metadata": {
        "id": "TWSIn7nCjbt8",
        "outputId": "39d0897d-7bf0-47b6-d77f-2939339320af",
        "colab": {
          "base_uri": "https://localhost:8080/"
        }
      },
      "source": [
        "the_trio = [1,2,3]\n",
        "id(the_trio)"
      ],
      "execution_count": 5,
      "outputs": [
        {
          "output_type": "execute_result",
          "data": {
            "text/plain": [
              "140203003155912"
            ]
          },
          "metadata": {
            "tags": []
          },
          "execution_count": 5
        }
      ]
    },
    {
      "cell_type": "code",
      "metadata": {
        "id": "MmpBtbqpkf2b"
      },
      "source": [
        "the_trio = the_trio.append(4)"
      ],
      "execution_count": 6,
      "outputs": []
    },
    {
      "cell_type": "code",
      "metadata": {
        "id": "0UwT3JIWko_Q"
      },
      "source": [
        "the_trio = [2,3,4]"
      ],
      "execution_count": 7,
      "outputs": []
    },
    {
      "cell_type": "code",
      "metadata": {
        "id": "1BNUFF1qk1bS",
        "outputId": "e4ef68a0-84ed-4730-f759-2b17ead3f2c5",
        "colab": {
          "base_uri": "https://localhost:8080/"
        }
      },
      "source": [
        "id(the_trio)"
      ],
      "execution_count": 8,
      "outputs": [
        {
          "output_type": "execute_result",
          "data": {
            "text/plain": [
              "140202870773064"
            ]
          },
          "metadata": {
            "tags": []
          },
          "execution_count": 8
        }
      ]
    },
    {
      "cell_type": "code",
      "metadata": {
        "id": "F8SrLz73lDui"
      },
      "source": [
        "the_trio.append(5)"
      ],
      "execution_count": 9,
      "outputs": []
    },
    {
      "cell_type": "code",
      "metadata": {
        "id": "HSGKG4dblDxb",
        "outputId": "53292825-a20f-44b8-a664-c5f5d2c56a1d",
        "colab": {
          "base_uri": "https://localhost:8080/"
        }
      },
      "source": [
        "the_trio"
      ],
      "execution_count": 10,
      "outputs": [
        {
          "output_type": "execute_result",
          "data": {
            "text/plain": [
              "[2, 3, 4, 5]"
            ]
          },
          "metadata": {
            "tags": []
          },
          "execution_count": 10
        }
      ]
    },
    {
      "cell_type": "code",
      "metadata": {
        "id": "ClMrRMi7lMVA",
        "outputId": "8dad2428-5ec3-4c20-ba51-d3e086c8daf1",
        "colab": {
          "base_uri": "https://localhost:8080/"
        }
      },
      "source": [
        "id(the_trio)"
      ],
      "execution_count": 11,
      "outputs": [
        {
          "output_type": "execute_result",
          "data": {
            "text/plain": [
              "140202870773064"
            ]
          },
          "metadata": {
            "tags": []
          },
          "execution_count": 11
        }
      ]
    },
    {
      "cell_type": "code",
      "metadata": {
        "id": "9rZV5y80lSpZ"
      },
      "source": [
        "# continue break pass"
      ],
      "execution_count": null,
      "outputs": []
    },
    {
      "cell_type": "code",
      "metadata": {
        "id": "GFATbhValxf3",
        "outputId": "959d8701-b3a3-4b31-e6f8-03a4f011d7cc",
        "colab": {
          "base_uri": "https://localhost:8080/"
        }
      },
      "source": [
        "x = 6\n",
        "\n",
        "while x<10:\n",
        "  print(x)\n",
        "  x+=1\n",
        "  break\n",
        "  print(x+1)\n"
      ],
      "execution_count": 14,
      "outputs": [
        {
          "output_type": "stream",
          "text": [
            "6\n"
          ],
          "name": "stdout"
        }
      ]
    },
    {
      "cell_type": "code",
      "metadata": {
        "id": "uYnpBFrvnFlY",
        "outputId": "7b741842-8468-4ae8-9162-03066b3f6954",
        "colab": {
          "base_uri": "https://localhost:8080/"
        }
      },
      "source": [
        "name = 'flinstones'\n",
        "for i in name:\n",
        "  print(i)"
      ],
      "execution_count": 18,
      "outputs": [
        {
          "output_type": "stream",
          "text": [
            "f\n",
            "l\n",
            "i\n",
            "n\n",
            "s\n",
            "t\n",
            "o\n",
            "n\n",
            "e\n",
            "s\n"
          ],
          "name": "stdout"
        }
      ]
    },
    {
      "cell_type": "code",
      "metadata": {
        "id": "CGIbNWo9ozfF",
        "outputId": "3266572b-c333-4a09-8593-f0ab392f523e",
        "colab": {
          "base_uri": "https://localhost:8080/"
        }
      },
      "source": [
        "while x<10:\n",
        "  print(x)\n",
        "  x+=1\n",
        "  break"
      ],
      "execution_count": 21,
      "outputs": [
        {
          "output_type": "stream",
          "text": [
            "7\n"
          ],
          "name": "stdout"
        }
      ]
    },
    {
      "cell_type": "code",
      "metadata": {
        "id": "8SMMUQ7cpnKF",
        "outputId": "56bc555e-a318-4875-84a1-abb161ad9998",
        "colab": {
          "base_uri": "https://localhost:8080/"
        }
      },
      "source": [
        "print(1)"
      ],
      "execution_count": 1,
      "outputs": [
        {
          "output_type": "stream",
          "text": [
            "1\n"
          ],
          "name": "stdout"
        }
      ]
    },
    {
      "cell_type": "code",
      "metadata": {
        "id": "tVsOd8vFqZ-y",
        "outputId": "87353f08-b1e0-4fc5-e0ea-799b06933251",
        "colab": {
          "base_uri": "https://localhost:8080/"
        }
      },
      "source": [
        "x = 1\n",
        "while x<10:\n",
        "  print(x)\n",
        "  x+=1\n",
        "  break\n"
      ],
      "execution_count": 8,
      "outputs": [
        {
          "output_type": "stream",
          "text": [
            "1\n"
          ],
          "name": "stdout"
        }
      ]
    },
    {
      "cell_type": "code",
      "metadata": {
        "id": "YDTLaPMfs2zR",
        "outputId": "310cbe9d-8e82-4cad-9b96-7dcb4728e7e0",
        "colab": {
          "base_uri": "https://localhost:8080/"
        }
      },
      "source": [
        "roll_number = int(input(\"enter you roll number:\\t\"))\n",
        "while roll_number<10:\n",
        "  print(\"why you were absent yesterday\")\n",
        "  x+=1\n",
        "  break\n",
        "   \n"
      ],
      "execution_count": 14,
      "outputs": [
        {
          "output_type": "stream",
          "text": [
            "enter you roll number:\t5\n",
            "why you were absent yesterday\n"
          ],
          "name": "stdout"
        }
      ]
    }
  ]
}