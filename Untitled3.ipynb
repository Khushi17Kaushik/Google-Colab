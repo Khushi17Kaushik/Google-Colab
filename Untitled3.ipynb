{
  "nbformat": 4,
  "nbformat_minor": 0,
  "metadata": {
    "colab": {
      "name": "Untitled3.ipynb",
      "provenance": [],
      "authorship_tag": "ABX9TyMI/XP6Aq82bY8x5FGfAZw3",
      "include_colab_link": true
    },
    "kernelspec": {
      "name": "python3",
      "display_name": "Python 3"
    }
  },
  "cells": [
    {
      "cell_type": "markdown",
      "metadata": {
        "id": "view-in-github",
        "colab_type": "text"
      },
      "source": [
        "<a href=\"https://colab.research.google.com/github/Khushi17Kaushik/Google-Colab/blob/main/Untitled3.ipynb\" target=\"_parent\"><img src=\"https://colab.research.google.com/assets/colab-badge.svg\" alt=\"Open In Colab\"/></a>"
      ]
    },
    {
      "cell_type": "code",
      "metadata": {
        "id": "BWnTvu34Fx6k"
      },
      "source": [
        "# SEQUENCE DATATYPE"
      ],
      "execution_count": 1,
      "outputs": []
    },
    {
      "cell_type": "code",
      "metadata": {
        "id": "ADMG0_XhH0Ww"
      },
      "source": [
        "grocery = ['eggs',\n",
        "           'bread',\n",
        "           'aaloo',\n",
        "           'oil',\n",
        "           'paneer',\n",
        "           'lays',\n",
        "           'kurkure',\n",
        "           'brittaniacake',\n",
        "           'maccains']"
      ],
      "execution_count": 5,
      "outputs": []
    },
    {
      "cell_type": "code",
      "metadata": {
        "colab": {
          "base_uri": "https://localhost:8080/"
        },
        "id": "8zmIe1IoIkEC",
        "outputId": "78646b00-3162-4138-b333-e1b7086f9696"
      },
      "source": [
        "grocery"
      ],
      "execution_count": 6,
      "outputs": [
        {
          "output_type": "execute_result",
          "data": {
            "text/plain": [
              "['eggs',\n",
              " 'bread',\n",
              " 'aaloo',\n",
              " 'oil',\n",
              " 'paneer',\n",
              " 'lays',\n",
              " 'kurkure',\n",
              " 'brittaniacake',\n",
              " 'maccains']"
            ]
          },
          "metadata": {
            "tags": []
          },
          "execution_count": 6
        }
      ]
    },
    {
      "cell_type": "code",
      "metadata": {
        "id": "9ZZzq4-hIm_j"
      },
      "source": [
        "clothes = ['hoodies','sweaters','jackets','caps','boots']"
      ],
      "execution_count": 7,
      "outputs": []
    },
    {
      "cell_type": "code",
      "metadata": {
        "colab": {
          "base_uri": "https://localhost:8080/"
        },
        "id": "9Q5e70PZI0J2",
        "outputId": "7a3ccb7b-4dcb-4454-cc6f-a9c972d3d2ea"
      },
      "source": [
        "clothes"
      ],
      "execution_count": 8,
      "outputs": [
        {
          "output_type": "execute_result",
          "data": {
            "text/plain": [
              "['hoodies', 'sweaters', 'jackets', 'caps', 'boots']"
            ]
          },
          "metadata": {
            "tags": []
          },
          "execution_count": 8
        }
      ]
    },
    {
      "cell_type": "code",
      "metadata": {
        "id": "h8I651GWI3tz"
      },
      "source": [
        "normal_array = [1,2,3,4,5]"
      ],
      "execution_count": 9,
      "outputs": []
    },
    {
      "cell_type": "code",
      "metadata": {
        "id": "xyOfjswQKNiJ"
      },
      "source": [
        "list1 = [2,4,5,6]"
      ],
      "execution_count": 10,
      "outputs": []
    },
    {
      "cell_type": "code",
      "metadata": {
        "colab": {
          "base_uri": "https://localhost:8080/"
        },
        "id": "qm3OWlVpKUYJ",
        "outputId": "f27613ff-6e55-4e86-f66b-987f37182a2a"
      },
      "source": [
        "list1"
      ],
      "execution_count": 11,
      "outputs": [
        {
          "output_type": "execute_result",
          "data": {
            "text/plain": [
              "[2, 4, 5, 6]"
            ]
          },
          "metadata": {
            "tags": []
          },
          "execution_count": 11
        }
      ]
    },
    {
      "cell_type": "code",
      "metadata": {
        "colab": {
          "base_uri": "https://localhost:8080/"
        },
        "id": "ArttDG1bKWEp",
        "outputId": "fba6f5b6-6ec2-4e9d-e03e-d8a3af943c24"
      },
      "source": [
        "normal_array"
      ],
      "execution_count": 12,
      "outputs": [
        {
          "output_type": "execute_result",
          "data": {
            "text/plain": [
              "[1, 2, 3, 4, 5]"
            ]
          },
          "metadata": {
            "tags": []
          },
          "execution_count": 12
        }
      ]
    },
    {
      "cell_type": "code",
      "metadata": {
        "colab": {
          "base_uri": "https://localhost:8080/"
        },
        "id": "3A1KiozDKrGN",
        "outputId": "274586ed-4a08-4d58-ec5c-6b8d9cc501b4"
      },
      "source": [
        "limit = int(input('enter the limit of the list'))\n",
        "list2 = []\n",
        "for i in range(0,limit):\n",
        "  value = input(\"enter the value\")\n",
        "  list2.append(value)\n",
        "\n",
        "print(list2)"
      ],
      "execution_count": 16,
      "outputs": [
        {
          "output_type": "stream",
          "text": [
            "enter the limit of the list4\n",
            "enter the valuedaya\n",
            "enter the valuejethalal\n",
            "enter the valuetapu\n",
            "enter the valuesundar\n",
            "['daya', 'jethalal', 'tapu', 'sundar']\n"
          ],
          "name": "stdout"
        }
      ]
    }
  ]
}