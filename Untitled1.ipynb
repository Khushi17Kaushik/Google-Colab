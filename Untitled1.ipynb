{
  "nbformat": 4,
  "nbformat_minor": 0,
  "metadata": {
    "colab": {
      "name": "Untitled1.ipynb",
      "provenance": [],
      "authorship_tag": "ABX9TyOAhSRWRX8xjscn/D9vJ5A+",
      "include_colab_link": true
    },
    "kernelspec": {
      "name": "python3",
      "display_name": "Python 3"
    }
  },
  "cells": [
    {
      "cell_type": "markdown",
      "metadata": {
        "id": "view-in-github",
        "colab_type": "text"
      },
      "source": [
        "<a href=\"https://colab.research.google.com/github/Khushi17Kaushik/Google-Colab/blob/main/Untitled1.ipynb\" target=\"_parent\"><img src=\"https://colab.research.google.com/assets/colab-badge.svg\" alt=\"Open In Colab\"/></a>"
      ]
    },
    {
      "cell_type": "code",
      "metadata": {
        "id": "0DrPRIe7wzcI"
      },
      "source": [
        "# int number = 6\n",
        "# float number2 = 8.90\n",
        "# char val = 's'\n",
        "# long int val = 9087657809006657\n"
      ],
      "execution_count": null,
      "outputs": []
    },
    {
      "cell_type": "code",
      "metadata": {
        "id": "hP0khH437ULU"
      },
      "source": [
        "number = 8\n",
        "\n",
        "name = 'khushi kaushik'\n"
      ],
      "execution_count": 7,
      "outputs": []
    },
    {
      "cell_type": "code",
      "metadata": {
        "id": "6rcJJk7Q8PeL",
        "outputId": "df2bb694-8c8a-47ad-ebbe-a65b60366386",
        "colab": {
          "base_uri": "https://localhost:8080/"
        }
      },
      "source": [
        "type(number)"
      ],
      "execution_count": 8,
      "outputs": [
        {
          "output_type": "execute_result",
          "data": {
            "text/plain": [
              "int"
            ]
          },
          "metadata": {
            "tags": []
          },
          "execution_count": 8
        }
      ]
    },
    {
      "cell_type": "code",
      "metadata": {
        "id": "6n8lmAag8ppM",
        "outputId": "ab786a15-4c62-4a94-f40f-cc15c9bc7b73",
        "colab": {
          "base_uri": "https://localhost:8080/",
          "height": 35
        }
      },
      "source": [
        "'''\n",
        "category\n",
        "1.numeric\n",
        " bool\n",
        "  int\n",
        "   float\n",
        "    complex\n",
        "\n",
        "2. sequence\n",
        "   list\n",
        "    tuples\n",
        "     dictionary\n",
        "      set\n",
        "       strings\n",
        "\n",
        "3. none\n",
        "\n",
        "'''"
      ],
      "execution_count": 9,
      "outputs": [
        {
          "output_type": "execute_result",
          "data": {
            "application/vnd.google.colaboratory.intrinsic+json": {
              "type": "string"
            },
            "text/plain": [
              "'\\ncategory\\n1.numeric\\n bool\\n  int\\n   float\\n    complex\\n\\n2. sequence\\n   list\\n    tuples\\n     dictionary\\n      set\\n       strings\\n\\n3. none\\n\\n'"
            ]
          },
          "metadata": {
            "tags": []
          },
          "execution_count": 9
        }
      ]
    },
    {
      "cell_type": "code",
      "metadata": {
        "id": "cWYwpiDv9JNu"
      },
      "source": [
        "negative = -84752\n",
        "positive = 874136"
      ],
      "execution_count": 10,
      "outputs": []
    },
    {
      "cell_type": "code",
      "metadata": {
        "id": "5vvSZHCM9w4K",
        "outputId": "a642c73f-ef92-4b89-afb9-81aa3b9c688d",
        "colab": {
          "base_uri": "https://localhost:8080/"
        }
      },
      "source": [
        "type(negative)\n"
      ],
      "execution_count": 11,
      "outputs": [
        {
          "output_type": "execute_result",
          "data": {
            "text/plain": [
              "int"
            ]
          },
          "metadata": {
            "tags": []
          },
          "execution_count": 11
        }
      ]
    },
    {
      "cell_type": "code",
      "metadata": {
        "id": "DI2JFnYb93cL",
        "outputId": "021931ff-3ddc-491c-83fa-eebe534847ae",
        "colab": {
          "base_uri": "https://localhost:8080/"
        }
      },
      "source": [
        "type(positive)"
      ],
      "execution_count": 12,
      "outputs": [
        {
          "output_type": "execute_result",
          "data": {
            "text/plain": [
              "int"
            ]
          },
          "metadata": {
            "tags": []
          },
          "execution_count": 12
        }
      ]
    },
    {
      "cell_type": "code",
      "metadata": {
        "id": "h2NdpHZv9-Ab"
      },
      "source": [
        "deci1 = 28.0982726"
      ],
      "execution_count": 13,
      "outputs": []
    },
    {
      "cell_type": "code",
      "metadata": {
        "id": "mruqznjN-DOD",
        "outputId": "324fe67b-2f90-4c2b-b356-6ee64ca23f21",
        "colab": {
          "base_uri": "https://localhost:8080/"
        }
      },
      "source": [
        "type(deci1)"
      ],
      "execution_count": 14,
      "outputs": [
        {
          "output_type": "execute_result",
          "data": {
            "text/plain": [
              "float"
            ]
          },
          "metadata": {
            "tags": []
          },
          "execution_count": 14
        }
      ]
    },
    {
      "cell_type": "code",
      "metadata": {
        "id": "fNsJk6yg-HIo"
      },
      "source": [
        "answer = 8<10"
      ],
      "execution_count": 15,
      "outputs": []
    },
    {
      "cell_type": "code",
      "metadata": {
        "id": "86EeOfPl-ZfN",
        "outputId": "8b86ac6a-89c4-421c-df91-4f82ea082388",
        "colab": {
          "base_uri": "https://localhost:8080/"
        }
      },
      "source": [
        "answer"
      ],
      "execution_count": 16,
      "outputs": [
        {
          "output_type": "execute_result",
          "data": {
            "text/plain": [
              "True"
            ]
          },
          "metadata": {
            "tags": []
          },
          "execution_count": 16
        }
      ]
    },
    {
      "cell_type": "code",
      "metadata": {
        "id": "YlLyb6is-cqb",
        "outputId": "d53f0460-b604-4e8a-ef30-b8afb2ba42b2",
        "colab": {
          "base_uri": "https://localhost:8080/"
        }
      },
      "source": [
        "type(answer)"
      ],
      "execution_count": 17,
      "outputs": [
        {
          "output_type": "execute_result",
          "data": {
            "text/plain": [
              "bool"
            ]
          },
          "metadata": {
            "tags": []
          },
          "execution_count": 17
        }
      ]
    },
    {
      "cell_type": "code",
      "metadata": {
        "id": "hCt-TWsk-fod"
      },
      "source": [
        "answer = 8>10"
      ],
      "execution_count": 18,
      "outputs": []
    },
    {
      "cell_type": "code",
      "metadata": {
        "id": "PFy20I1U-mHc",
        "outputId": "9e140831-11a7-4137-febd-45bd6ad5a2f3",
        "colab": {
          "base_uri": "https://localhost:8080/"
        }
      },
      "source": [
        "answer"
      ],
      "execution_count": 19,
      "outputs": [
        {
          "output_type": "execute_result",
          "data": {
            "text/plain": [
              "False"
            ]
          },
          "metadata": {
            "tags": []
          },
          "execution_count": 19
        }
      ]
    },
    {
      "cell_type": "code",
      "metadata": {
        "id": "oiRDt8Zm-mJx",
        "outputId": "d7d4fa04-18b8-40e8-8ee7-5b9fc5820104",
        "colab": {
          "base_uri": "https://localhost:8080/"
        }
      },
      "source": [
        "type(answer)"
      ],
      "execution_count": 20,
      "outputs": [
        {
          "output_type": "execute_result",
          "data": {
            "text/plain": [
              "bool"
            ]
          },
          "metadata": {
            "tags": []
          },
          "execution_count": 20
        }
      ]
    },
    {
      "cell_type": "code",
      "metadata": {
        "id": "rwfSCdWh_fe8"
      },
      "source": [
        "complex1 = 6+7j"
      ],
      "execution_count": 21,
      "outputs": []
    },
    {
      "cell_type": "code",
      "metadata": {
        "id": "qwLVzCaR_m1F",
        "outputId": "46dcb49d-0f60-47f7-8866-3dfbbabf5abc",
        "colab": {
          "base_uri": "https://localhost:8080/"
        }
      },
      "source": [
        "type(complex1)"
      ],
      "execution_count": 22,
      "outputs": [
        {
          "output_type": "execute_result",
          "data": {
            "text/plain": [
              "complex"
            ]
          },
          "metadata": {
            "tags": []
          },
          "execution_count": 22
        }
      ]
    },
    {
      "cell_type": "code",
      "metadata": {
        "id": "V7oMJy2G_qux"
      },
      "source": [
        "# @ANANTSHAHI"
      ],
      "execution_count": 25,
      "outputs": []
    }
  ]
}